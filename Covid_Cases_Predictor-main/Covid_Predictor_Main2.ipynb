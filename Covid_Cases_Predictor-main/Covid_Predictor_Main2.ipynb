{
 "cells": [
  {
   "cell_type": "markdown",
   "id": "ca57342a",
   "metadata": {},
   "source": [
    "# 2020 Covid dataset analysed\n"
   ]
  },
  {
   "cell_type": "markdown",
   "id": "5eb15148",
   "metadata": {},
   "source": [
    "## Part 1 - Feature Engineering "
   ]
  },
  {
   "cell_type": "code",
   "execution_count": 1,
   "id": "f25a8b6b",
   "metadata": {},
   "outputs": [],
   "source": [
    "import pandas as pd\n",
    "import os\n",
    "import numpy as np\n",
    "import tensorflow as tf\n",
    "from datetime import datetime\n",
    "from tensorflow import keras\n",
    "import matplotlib.pyplot as plt"
   ]
  },
  {
   "cell_type": "code",
   "execution_count": 275,
   "id": "8b4c50e0",
   "metadata": {},
   "outputs": [],
   "source": [
    "list_of_df= []\n",
    "for (root, dirs, files) in os.walk(os.path.join(os.getcwd(), \"county_data\")):\n",
    "    for file in files:\n",
    "        if file[-4:] == \".csv\": \n",
    "            df = pd.read_csv(os.path.join(root, file))\n",
    "            df = df.dropna()\n",
    "            if len(df):\n",
    "                name = df[\"areaName\"][5]\n",
    "                df = df.drop(df.columns[:3], axis=1)[::-1].reset_index(drop=True)\n",
    "                df['y'] = df[\"newCasesBySpecimenDate\"]/df[\"newVirusTestsBySpecimenDate\"]\n",
    "                for i in range(len(df)):\n",
    "                        if df[\"newVirusTestsBySpecimenDate\"][i]==0:\n",
    "                            df.loc[i, 'y']=0\n",
    "                df.columns=['Date','Cases','Deaths','Tests','y']\n",
    "                df=df.set_index('Date')\n",
    "                list_of_df.append((name,df))\n",
    "\n",
    "\n"
   ]
  },
  {
   "cell_type": "code",
   "execution_count": 3,
   "id": "0a28aff2",
   "metadata": {},
   "outputs": [
    {
     "data": {
      "text/html": [
       "<div>\n",
       "<style scoped>\n",
       "    .dataframe tbody tr th:only-of-type {\n",
       "        vertical-align: middle;\n",
       "    }\n",
       "\n",
       "    .dataframe tbody tr th {\n",
       "        vertical-align: top;\n",
       "    }\n",
       "\n",
       "    .dataframe thead th {\n",
       "        text-align: right;\n",
       "    }\n",
       "</style>\n",
       "<table border=\"1\" class=\"dataframe\">\n",
       "  <thead>\n",
       "    <tr style=\"text-align: right;\">\n",
       "      <th></th>\n",
       "      <th>Cases</th>\n",
       "      <th>Deaths</th>\n",
       "      <th>Tests</th>\n",
       "      <th>y</th>\n",
       "    </tr>\n",
       "    <tr>\n",
       "      <th>Date</th>\n",
       "      <th></th>\n",
       "      <th></th>\n",
       "      <th></th>\n",
       "      <th></th>\n",
       "    </tr>\n",
       "  </thead>\n",
       "  <tbody>\n",
       "    <tr>\n",
       "      <th>2020-03-20</th>\n",
       "      <td>1.0</td>\n",
       "      <td>1.0</td>\n",
       "      <td>4</td>\n",
       "      <td>0.250000</td>\n",
       "    </tr>\n",
       "    <tr>\n",
       "      <th>2020-03-21</th>\n",
       "      <td>0.0</td>\n",
       "      <td>1.0</td>\n",
       "      <td>5</td>\n",
       "      <td>0.000000</td>\n",
       "    </tr>\n",
       "    <tr>\n",
       "      <th>2020-03-22</th>\n",
       "      <td>0.0</td>\n",
       "      <td>0.0</td>\n",
       "      <td>9</td>\n",
       "      <td>0.000000</td>\n",
       "    </tr>\n",
       "    <tr>\n",
       "      <th>2020-03-23</th>\n",
       "      <td>0.0</td>\n",
       "      <td>0.0</td>\n",
       "      <td>11</td>\n",
       "      <td>0.000000</td>\n",
       "    </tr>\n",
       "    <tr>\n",
       "      <th>2020-03-24</th>\n",
       "      <td>0.0</td>\n",
       "      <td>0.0</td>\n",
       "      <td>11</td>\n",
       "      <td>0.000000</td>\n",
       "    </tr>\n",
       "    <tr>\n",
       "      <th>...</th>\n",
       "      <td>...</td>\n",
       "      <td>...</td>\n",
       "      <td>...</td>\n",
       "      <td>...</td>\n",
       "    </tr>\n",
       "    <tr>\n",
       "      <th>2022-11-10</th>\n",
       "      <td>11.0</td>\n",
       "      <td>0.0</td>\n",
       "      <td>66</td>\n",
       "      <td>0.166667</td>\n",
       "    </tr>\n",
       "    <tr>\n",
       "      <th>2022-11-11</th>\n",
       "      <td>0.0</td>\n",
       "      <td>0.0</td>\n",
       "      <td>45</td>\n",
       "      <td>0.000000</td>\n",
       "    </tr>\n",
       "    <tr>\n",
       "      <th>2022-11-12</th>\n",
       "      <td>5.0</td>\n",
       "      <td>0.0</td>\n",
       "      <td>176</td>\n",
       "      <td>0.028409</td>\n",
       "    </tr>\n",
       "    <tr>\n",
       "      <th>2022-11-13</th>\n",
       "      <td>3.0</td>\n",
       "      <td>0.0</td>\n",
       "      <td>32</td>\n",
       "      <td>0.093750</td>\n",
       "    </tr>\n",
       "    <tr>\n",
       "      <th>2022-11-14</th>\n",
       "      <td>5.0</td>\n",
       "      <td>0.0</td>\n",
       "      <td>67</td>\n",
       "      <td>0.074627</td>\n",
       "    </tr>\n",
       "  </tbody>\n",
       "</table>\n",
       "<p>970 rows × 4 columns</p>\n",
       "</div>"
      ],
      "text/plain": [
       "            Cases  Deaths  Tests         y\n",
       "Date                                      \n",
       "2020-03-20    1.0     1.0      4  0.250000\n",
       "2020-03-21    0.0     1.0      5  0.000000\n",
       "2020-03-22    0.0     0.0      9  0.000000\n",
       "2020-03-23    0.0     0.0     11  0.000000\n",
       "2020-03-24    0.0     0.0     11  0.000000\n",
       "...           ...     ...    ...       ...\n",
       "2022-11-10   11.0     0.0     66  0.166667\n",
       "2022-11-11    0.0     0.0     45  0.000000\n",
       "2022-11-12    5.0     0.0    176  0.028409\n",
       "2022-11-13    3.0     0.0     32  0.093750\n",
       "2022-11-14    5.0     0.0     67  0.074627\n",
       "\n",
       "[970 rows x 4 columns]"
      ]
     },
     "execution_count": 3,
     "metadata": {},
     "output_type": "execute_result"
    }
   ],
   "source": [
    "list_of_df[0][1]"
   ]
  },
  {
   "cell_type": "markdown",
   "id": "66675f95",
   "metadata": {},
   "source": [
    "## Part 2 - Deep Learning "
   ]
  },
  {
   "cell_type": "code",
   "execution_count": 82,
   "id": "300864e9",
   "metadata": {},
   "outputs": [
    {
     "data": {
      "text/plain": [
       "array([ 1.33333333,  2.33333333, 18.33333333, 20.        , 21.        ])"
      ]
     },
     "execution_count": 82,
     "metadata": {},
     "output_type": "execute_result"
    }
   ],
   "source": [
    "def moving_average(x, w):\n",
    "    return np.convolve(x, np.ones(w), 'valid') / w\n",
    "moving_average([1, 2, 1, 4, 50, 6, 7], 5)"
   ]
  },
  {
   "cell_type": "code",
   "execution_count": 355,
   "id": "e74e9270",
   "metadata": {},
   "outputs": [],
   "source": [
    "past_values = 100\n",
    "def get_data(n):\n",
    "    values=list(list_of_df[n][1].y)\n",
    "    X = []\n",
    "    y = []\n",
    "    for i in range(len(values)-past_values):\n",
    "        X.append(values[i:i+past_values])\n",
    "        y.append(values[i+past_values])\n",
    "    X = np.array(X[2:-2])\n",
    "    y = moving_average(np.array(y), 5)\n",
    "    return X, y"
   ]
  },
  {
   "cell_type": "code",
   "execution_count": 310,
   "id": "c8ba5820",
   "metadata": {},
   "outputs": [],
   "source": [
    "model = keras.models.Sequential([\n",
    "    keras.layers.Dense(32, activation='tanh', input_shape=(past_values, )),\n",
    "    keras.layers.Dense(16, activation='tanh'),\n",
    "    keras.layers.Dense(1, activation='sigmoid')]\n",
    ")\n",
    "opt = keras.optimizers.RMSprop(learning_rate=0.0001)\n",
    "model.compile(optimizer=opt, loss='mae')"
   ]
  },
  {
   "cell_type": "code",
   "execution_count": 320,
   "id": "85fcb0b6",
   "metadata": {},
   "outputs": [],
   "source": [
    "for _ in range(10):\n",
    "    for i in range(len(list_of_df)):\n",
    "        X, y = get_data(i)\n",
    "        model.fit(X[:300], y[:300], epochs=1, verbose=0)"
   ]
  },
  {
   "cell_type": "code",
   "execution_count": 359,
   "id": "5cb66c04",
   "metadata": {},
   "outputs": [
    {
     "data": {
      "text/plain": [
       "[<matplotlib.lines.Line2D at 0x218edf104c0>]"
      ]
     },
     "execution_count": 359,
     "metadata": {},
     "output_type": "execute_result"
    },
    {
     "data": {
      "image/png": "[encoded data removed]",
      "text/plain": [
       "<Figure size 432x288 with 1 Axes>"
      ]
     },
     "metadata": {
      "needs_background": "light"
     },
     "output_type": "display_data"
    }
   ],
   "source": [
    "X, y = get_data(55)\n",
    "y_pred = model.predict(X)\n",
    "plt.plot(y)\n",
    "plt.plot(y_pred)"
   ]
  },
  {
   "cell_type": "code",
   "execution_count": 372,
   "id": "6a98ec08",
   "metadata": {},
   "outputs": [],
   "source": [
    "def predict_future(n, steps, timeline):\n",
    "    size = len(timeline)\n",
    "    for i in range(steps):\n",
    "        y_pred = model.predict(np.array([timeline[-size:]]))\n",
    "        timeline = np.append(timeline, y_pred)\n",
    "    return timeline[-steps:]"
   ]
  },
  {
   "cell_type": "code",
   "execution_count": 373,
   "id": "b7b3dfd4",
   "metadata": {},
   "outputs": [],
   "source": [
    "n=55\n",
    "steps = 30\n",
    "X, y = get_data(n)\n",
    "y=y[-350:]\n",
    "y_future = predict_future(n, steps, X[-1])\n",
    "# x_axis_future = np.arange(len(y), len(y)+steps)\n",
    "# plt.plot(y)\n",
    "# plt.plot(x_axis_future, y_future)"
   ]
  },
  {
   "cell_type": "code",
   "execution_count": 340,
   "id": "66e6d976",
   "metadata": {},
   "outputs": [
    {
     "name": "stdout",
     "output_type": "stream",
     "text": [
      "INFO:tensorflow:Assets written to: model2\\assets\n"
     ]
    }
   ],
   "source": [
    "model.save(\"model2\")"
   ]
  },
  {
   "cell_type": "code",
   "execution_count": null,
   "id": "494147f2",
   "metadata": {},
   "outputs": [],
   "source": []
  }
 ],
 "metadata": {
  "kernelspec": {
   "display_name": "Python 3.8.3 ('base')",
   "language": "python",
   "name": "python3"
  },
  "language_info": {
   "codemirror_mode": {
    "name": "ipython",
    "version": 3
   },
   "file_extension": ".py",
   "mimetype": "text/x-python",
   "name": "python",
   "nbconvert_exporter": "python",
   "pygments_lexer": "ipython3",
   "version": "3.8.3"
  },
  "vscode": {
   "interpreter": {
    "hash": "6f5583cf1d9466b5c27e75c89cc6b383bed5736d6b16c51c8074d8690011a952"
   }
  }
 },
 "nbformat": 4,
 "nbformat_minor": 5
}
