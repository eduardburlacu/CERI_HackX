{
 "cells": [
  {
   "cell_type": "code",
   "execution_count": 21,
   "metadata": {},
   "outputs": [],
   "source": [
    "import pandas as pd\n",
    "import os\n",
    "import numpy as np"
   ]
  },
  {
   "cell_type": "code",
   "execution_count": 42,
   "metadata": {},
   "outputs": [
    {
     "name": "stdout",
     "output_type": "stream",
     "text": [
      "(1013, 7)\n",
      "(985, 7)\n"
     ]
    },
    {
     "data": {
      "text/plain": [
       "2    100\n",
       "3     82\n",
       "4     49\n",
       "5     85\n",
       "6    140\n",
       "Name: newVirusTestsBySpecimenDate, dtype: int64"
      ]
     },
     "execution_count": 42,
     "metadata": {},
     "output_type": "execute_result"
    }
   ],
   "source": [
    "df_test = pd.read_csv(\"county_data/utla_2022-11-17(3).csv\")\n",
    "print(df_test.shape)\n",
    "df_test = df_test.dropna()\n",
    "print(df_test.shape)\n",
    "df_test.dropna().iloc[:, -1].head()\n"
   ]
  },
  {
   "cell_type": "code",
   "execution_count": 61,
   "metadata": {},
   "outputs": [],
   "source": [
    "county_dict = {}\n",
    "for (root, dirs, files) in os.walk(os.path.join(os.getcwd(), \"county_data\")):\n",
    "    for file in files:\n",
    "        if file[-4:] == \".csv\": \n",
    "            df = pd.read_csv(os.path.join(root, file))\n",
    "            df = df.dropna()\n",
    "            if len(df):\n",
    "                name = df[\"areaName\"][5]\n",
    "                df = df.drop(df.columns[:4], axis=1)[::-1].reset_index(drop=True)\n",
    "                X = np.array(df)\n",
    "                y = np.array(df[\"newCasesBySpecimenDate\"]/df[\"newVirusTestsBySpecimenDate\"])\n",
    "                county_dict[name] = (X, y)"
   ]
  },
  {
   "cell_type": "code",
   "execution_count": 62,
   "metadata": {},
   "outputs": [
    {
     "name": "stdout",
     "output_type": "stream",
     "text": [
      "147\n"
     ]
    }
   ],
   "source": [
    "for county in county_dict:\n",
    "    X, y = county_dict[county]\n",
    "print(len(county_dict))"
   ]
  },
  {
   "cell_type": "code",
   "execution_count": null,
   "metadata": {},
   "outputs": [],
   "source": []
  }
 ],
 "metadata": {
  "kernelspec": {
   "display_name": "Python 3.8.3 ('base')",
   "language": "python",
   "name": "python3"
  },
  "language_info": {
   "codemirror_mode": {
    "name": "ipython",
    "version": 3
   },
   "file_extension": ".py",
   "mimetype": "text/x-python",
   "name": "python",
   "nbconvert_exporter": "python",
   "pygments_lexer": "ipython3",
   "version": "3.8.3"
  },
  "orig_nbformat": 4,
  "vscode": {
   "interpreter": {
    "hash": "6f5583cf1d9466b5c27e75c89cc6b383bed5736d6b16c51c8074d8690011a952"
   }
  }
 },
 "nbformat": 4,
 "nbformat_minor": 2
}
