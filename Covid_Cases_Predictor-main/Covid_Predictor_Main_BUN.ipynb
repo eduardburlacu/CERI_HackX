{
 "cells": [
  {
   "cell_type": "markdown",
   "id": "ca57342a",
   "metadata": {},
   "source": [
    "# 2020 Covid dataset analysed\n"
   ]
  },
  {
   "cell_type": "markdown",
   "id": "5eb15148",
   "metadata": {},
   "source": [
    "## Part 1 - Feature Engineering "
   ]
  },
  {
   "cell_type": "code",
   "execution_count": 110,
   "id": "f25a8b6b",
   "metadata": {},
   "outputs": [],
   "source": [
    "import pandas as pd\n",
    "import os\n",
    "import numpy as np\n",
    "import tensorflow as tf\n",
    "from datetime import datetime\n",
    "from tensorflow import keras\n",
    "import matplotlib.pyplot as plt\n",
    "import pickle"
   ]
  },
  {
   "cell_type": "code",
   "execution_count": 30,
   "id": "8b4c50e0",
   "metadata": {},
   "outputs": [],
   "source": [
    "list_of_df= []\n",
    "for (root, dirs, files) in os.walk(os.path.join(os.getcwd(), \"county_data\")):\n",
    "    for file in files:\n",
    "        if file[-4:] == \".csv\": \n",
    "            df = pd.read_csv(os.path.join(root, file))\n",
    "            df = df.dropna()\n",
    "            if len(df):\n",
    "                name = df[\"areaName\"][5]\n",
    "                df = df.drop(df.columns[:3], axis=1)[::-1].reset_index(drop=True)\n",
    "                df['y'] = df[\"newCasesBySpecimenDate\"]/df[\"newVirusTestsBySpecimenDate\"]\n",
    "                for i in range(len(df)):\n",
    "                    if df[\"newVirusTestsBySpecimenDate\"][i]==0:\n",
    "                        df.loc[i,'y']=0\n",
    "                df.columns=['Date','Cases','Deaths','Tests','y']\n",
    "                #df=df.set_index('Date')\n",
    "                list_of_df.append([name,df])\n",
    "\n",
    "\n"
   ]
  },
  {
   "cell_type": "code",
   "execution_count": 112,
   "id": "00d9d909",
   "metadata": {},
   "outputs": [
    {
     "data": {
      "text/plain": [
       "10"
      ]
     },
     "execution_count": 112,
     "metadata": {},
     "output_type": "execute_result"
    }
   ],
   "source": [
    "list_of_df[0][1][\"Tests\"][6]"
   ]
  },
  {
   "cell_type": "code",
   "execution_count": 113,
   "id": "a212af53",
   "metadata": {},
   "outputs": [
    {
     "name": "stdout",
     "output_type": "stream",
     "text": [
      "count    957.000000\n",
      "mean       0.038918\n",
      "std        0.048390\n",
      "min        0.000000\n",
      "25%        0.007678\n",
      "50%        0.027778\n",
      "75%        0.052632\n",
      "max        0.555556\n",
      "Name: y, dtype: float64\n"
     ]
    },
    {
     "data": {
      "text/plain": [
       "[<matplotlib.lines.Line2D at 0x20ab813a070>]"
      ]
     },
     "execution_count": 113,
     "metadata": {},
     "output_type": "execute_result"
    },
    {
     "data": {
      "image/png": "[encoded data removed]",
      "text/plain": [
       "<Figure size 432x288 with 1 Axes>"
      ]
     },
     "metadata": {
      "needs_background": "light"
     },
     "output_type": "display_data"
    }
   ],
   "source": [
    "print(list_of_df[16][1].y.describe())\n",
    "plt.plot(list_of_df[16][1].y)"
   ]
  },
  {
   "cell_type": "code",
   "execution_count": 114,
   "id": "0a28aff2",
   "metadata": {},
   "outputs": [],
   "source": [
    "list_slopes=[]\n",
    "list_means=[]\n",
    "for name,data in list_of_df:\n",
    "    slope, bias = np.polyfit(np.arange(0,data.shape[0]), data.y,1)\n",
    "    list_slopes.append(slope)\n",
    "    list_means.append(data.y.mean())"
   ]
  },
  {
   "cell_type": "code",
   "execution_count": 115,
   "id": "e1b5d806",
   "metadata": {},
   "outputs": [
    {
     "data": {
      "text/plain": [
       "[-7.009352573434715e-05,\n",
       " -1.210070596412333e-05,\n",
       " 1.0924270296073364e-05,\n",
       " -2.0524192970930683e-05,\n",
       " 2.006595093383056e-05,\n",
       " 1.945946684197738e-05,\n",
       " -1.2018401619309772e-05,\n",
       " -7.474533231940102e-05,\n",
       " -1.7217387846643366e-05,\n",
       " -4.388311983779209e-06,\n",
       " 5.6748354994254236e-06,\n",
       " 2.856943785056627e-05,\n",
       " 2.599376530206034e-05,\n",
       " 2.473585442602515e-05,\n",
       " -5.001534209907751e-06,\n",
       " -3.926018923010657e-05,\n",
       " 5.179491050629969e-05,\n",
       " -2.6327684556452558e-06,\n",
       " 3.923584010042349e-06,\n",
       " 1.3049079947661325e-05,\n",
       " -1.5541307305017786e-05,\n",
       " 2.728561996917576e-05,\n",
       " 2.4715472430987007e-05,\n",
       " 1.2991476740786423e-05,\n",
       " 3.0731495852298025e-05,\n",
       " 4.895017145299885e-05,\n",
       " 2.4702871743159333e-05,\n",
       " 1.0212562507937438e-05,\n",
       " 2.131646882685008e-05,\n",
       " -3.016437475575607e-05,\n",
       " 7.133410651745553e-06,\n",
       " 6.976248945578321e-06,\n",
       " 2.9209488489176565e-06,\n",
       " -2.818738759850701e-06,\n",
       " 1.0876154444565237e-05,\n",
       " -2.0070551496553338e-06,\n",
       " -7.016067510061868e-05,\n",
       " -6.823784136781185e-06,\n",
       " -6.141019024327251e-06,\n",
       " -3.69094035366433e-07,\n",
       " 4.021334249444453e-06,\n",
       " 8.033417355370518e-06,\n",
       " 4.7575855617548e-05,\n",
       " 2.1917285614470683e-05,\n",
       " -1.848665912858361e-05,\n",
       " -2.3870795177936203e-05,\n",
       " -6.61266612355677e-06,\n",
       " -7.74446407306192e-07,\n",
       " 3.6890375484134725e-05,\n",
       " 2.1828531312778924e-05,\n",
       " -1.9359030646560635e-06,\n",
       " 7.76865839854067e-06,\n",
       " 2.2103134049165636e-05,\n",
       " 2.2640317577091086e-05,\n",
       " 4.7904629334097944e-05,\n",
       " -7.892168502416304e-05,\n",
       " -0.000107354987125358,\n",
       " -1.4263971721390609e-05,\n",
       " -9.481423661858298e-05,\n",
       " -0.00011866640647569356,\n",
       " -8.295250738135458e-05,\n",
       " -5.20632392479713e-06,\n",
       " -1.600581173488778e-05,\n",
       " -9.781501692689799e-06,\n",
       " -0.00010311566527282079,\n",
       " 3.81158268755799e-05,\n",
       " -5.432061779649675e-06,\n",
       " 1.3432962066362061e-05,\n",
       " 1.478076423595353e-06,\n",
       " -3.421203821876211e-05,\n",
       " 2.92828314696833e-05,\n",
       " -9.71046928404687e-06,\n",
       " 2.4947770223668882e-05,\n",
       " 2.0887803790946598e-05,\n",
       " 6.263182048046264e-06,\n",
       " 4.64845249031025e-05,\n",
       " -5.220155832811793e-06,\n",
       " -1.5204502178246112e-05,\n",
       " -1.8599359481046174e-05,\n",
       " 2.750302481724699e-05,\n",
       " -3.736297189816855e-05,\n",
       " -3.810303257927806e-05,\n",
       " -1.1299411346458897e-05,\n",
       " -4.8373201958305445e-05,\n",
       " -5.878387412481084e-05,\n",
       " -5.533705158193038e-05,\n",
       " -1.6161140435707446e-05,\n",
       " -4.12056901224138e-05,\n",
       " -1.417596891571008e-05,\n",
       " -2.143470550219643e-05,\n",
       " 1.269026825113057e-05,\n",
       " -9.356475923318324e-06,\n",
       " -5.261467437170438e-07,\n",
       " -1.594512890711946e-05,\n",
       " -2.6865159112611e-05,\n",
       " 9.074115457403888e-06,\n",
       " 4.034612790534705e-05,\n",
       " -1.7616163700480724e-05,\n",
       " -1.5680883176059445e-05,\n",
       " -2.7605340913141342e-05,\n",
       " 4.86394130642091e-06,\n",
       " 2.521620098153896e-06,\n",
       " 2.0600909396648418e-05,\n",
       " -4.37562882080589e-06,\n",
       " -2.9755925887373118e-05,\n",
       " 1.9003021885047096e-05,\n",
       " -9.793728487299231e-06,\n",
       " -1.127139420773439e-05,\n",
       " 3.4619558944512834e-05,\n",
       " -2.517342391656398e-06,\n",
       " 6.9423725808357275e-06,\n",
       " 1.0835378783261595e-05,\n",
       " -1.3433819216835663e-05,\n",
       " -8.788200785052146e-06,\n",
       " -3.1336665616649576e-06,\n",
       " 1.9540039673194464e-05,\n",
       " 1.783166431127658e-05,\n",
       " -1.8773452854244387e-05,\n",
       " 1.6723897731775632e-05,\n",
       " 2.384925279795132e-06,\n",
       " 1.6723595605258085e-05,\n",
       " -2.3267831416368785e-05,\n",
       " 3.9920348929328584e-05,\n",
       " -1.2247709307206928e-05,\n",
       " 6.2877724070631655e-06,\n",
       " 4.094990881031531e-05,\n",
       " -1.6698783677108636e-06,\n",
       " 4.7018558146826694e-06,\n",
       " 2.384080793924825e-05,\n",
       " -3.16937106984258e-06,\n",
       " -9.844067528013486e-06,\n",
       " -2.1288847881801867e-08,\n",
       " -2.3786307089401873e-05,\n",
       " -7.364326652330046e-07,\n",
       " 2.6052332171223718e-05,\n",
       " 4.36792008567478e-06,\n",
       " -1.1344547040333034e-05,\n",
       " 1.0545623823134178e-05,\n",
       " -2.937826021256127e-05,\n",
       " 2.645270814547607e-05,\n",
       " 4.241991325776867e-05,\n",
       " -1.093945389307687e-05,\n",
       " 2.2199148762362924e-06,\n",
       " -1.737934829921447e-05,\n",
       " -3.70754985711089e-05,\n",
       " -7.20805910257142e-06,\n",
       " -2.918737250682647e-06]"
      ]
     },
     "execution_count": 115,
     "metadata": {},
     "output_type": "execute_result"
    }
   ],
   "source": [
    "list_slopes"
   ]
  },
  {
   "cell_type": "code",
   "execution_count": 26,
   "id": "0609c595",
   "metadata": {},
   "outputs": [
    {
     "ename": "AttributeError",
     "evalue": "'Series' object has no attribute 'columns'",
     "output_type": "error",
     "traceback": [
      "\u001b[1;31m---------------------------------------------------------------------------\u001b[0m",
      "\u001b[1;31mAttributeError\u001b[0m                            Traceback (most recent call last)",
      "\u001b[1;32m<ipython-input-26-99daf3cd5a4a>\u001b[0m in \u001b[0;36m<module>\u001b[1;34m\u001b[0m\n\u001b[0;32m     25\u001b[0m         \u001b[1;32mif\u001b[0m \u001b[0ma\u001b[0m \u001b[1;32mnot\u001b[0m \u001b[1;32min\u001b[0m \u001b[0mfeatures\u001b[0m\u001b[1;33m:\u001b[0m\u001b[1;33m\u001b[0m\u001b[1;33m\u001b[0m\u001b[0m\n\u001b[0;32m     26\u001b[0m             \u001b[0mfeatures\u001b[0m\u001b[1;33m.\u001b[0m\u001b[0mappend\u001b[0m\u001b[1;33m(\u001b[0m\u001b[0ma\u001b[0m\u001b[1;33m)\u001b[0m\u001b[1;33m\u001b[0m\u001b[1;33m\u001b[0m\u001b[0m\n\u001b[1;32m---> 27\u001b[1;33m         \u001b[1;32mif\u001b[0m \u001b[0ma\u001b[0m \u001b[1;32mnot\u001b[0m \u001b[1;32min\u001b[0m \u001b[0mdf\u001b[0m\u001b[1;33m.\u001b[0m\u001b[0mcolumns\u001b[0m\u001b[1;33m:\u001b[0m\u001b[1;33m\u001b[0m\u001b[1;33m\u001b[0m\u001b[0m\n\u001b[0m\u001b[0;32m     28\u001b[0m             \u001b[0mdf\u001b[0m \u001b[1;33m=\u001b[0m \u001b[0mnorm_feature\u001b[0m\u001b[1;33m(\u001b[0m\u001b[0mdf\u001b[0m\u001b[1;33m,\u001b[0m \u001b[0mcol\u001b[0m\u001b[1;33m=\u001b[0m\u001b[0mfeature\u001b[0m\u001b[1;33m)\u001b[0m\u001b[1;33m\u001b[0m\u001b[1;33m\u001b[0m\u001b[0m\n",
      "\u001b[1;32mc:\\Anaconda\\lib\\site-packages\\pandas\\core\\generic.py\u001b[0m in \u001b[0;36m__getattr__\u001b[1;34m(self, name)\u001b[0m\n\u001b[0;32m   5268\u001b[0m             \u001b[1;32mor\u001b[0m \u001b[0mname\u001b[0m \u001b[1;32min\u001b[0m \u001b[0mself\u001b[0m\u001b[1;33m.\u001b[0m\u001b[0m_accessors\u001b[0m\u001b[1;33m\u001b[0m\u001b[1;33m\u001b[0m\u001b[0m\n\u001b[0;32m   5269\u001b[0m         ):\n\u001b[1;32m-> 5270\u001b[1;33m             \u001b[1;32mreturn\u001b[0m \u001b[0mobject\u001b[0m\u001b[1;33m.\u001b[0m\u001b[0m__getattribute__\u001b[0m\u001b[1;33m(\u001b[0m\u001b[0mself\u001b[0m\u001b[1;33m,\u001b[0m \u001b[0mname\u001b[0m\u001b[1;33m)\u001b[0m\u001b[1;33m\u001b[0m\u001b[1;33m\u001b[0m\u001b[0m\n\u001b[0m\u001b[0;32m   5271\u001b[0m         \u001b[1;32melse\u001b[0m\u001b[1;33m:\u001b[0m\u001b[1;33m\u001b[0m\u001b[1;33m\u001b[0m\u001b[0m\n\u001b[0;32m   5272\u001b[0m             \u001b[1;32mif\u001b[0m \u001b[0mself\u001b[0m\u001b[1;33m.\u001b[0m\u001b[0m_info_axis\u001b[0m\u001b[1;33m.\u001b[0m\u001b[0m_can_hold_identifiers_and_holds_name\u001b[0m\u001b[1;33m(\u001b[0m\u001b[0mname\u001b[0m\u001b[1;33m)\u001b[0m\u001b[1;33m:\u001b[0m\u001b[1;33m\u001b[0m\u001b[1;33m\u001b[0m\u001b[0m\n",
      "\u001b[1;31mAttributeError\u001b[0m: 'Series' object has no attribute 'columns'"
     ]
    }
   ],
   "source": [
    "list_of_features=['Cases','Deaths','Tests']\n",
    "list_county=[x[0] for x in list_of_df]\n",
    "\n",
    "def norm_feature(data,col=None):\n",
    "    '''\n",
    "    Given a DataFrame and a column, it normalises the data in a new column called NORM_column\n",
    "    '''\n",
    "    if col is None:\n",
    "        a=(data-data.mean())/data.std()\n",
    "    else: \n",
    "        a=(data[col]-data[col].mean())/data[col].std()\n",
    "    name='NORM_'+ col\n",
    "    data[name]=a\n",
    "    return data\n",
    "\n",
    "def normalize(data, train_split):\n",
    "    data_mean = data[:train_split].mean(axis=0)\n",
    "    data_std = data[:train_split].std(axis=0)\n",
    "    return (data - data_mean) / data_std\n",
    "\n",
    "features=[]\n",
    "for name,df in list_of_df:\n",
    "    for feature in list_of_features:\n",
    "        a='NORM_'+feature\n",
    "        if a not in features:\n",
    "            features.append(a)\n",
    "        if a not in df.columns:\n",
    "            df = norm_feature(df, col=feature)\n"
   ]
  },
  {
   "cell_type": "code",
   "execution_count": 27,
   "id": "58a4416d",
   "metadata": {},
   "outputs": [
    {
     "data": {
      "text/plain": [
       "count    970.000000\n",
       "mean       0.067686\n",
       "std        0.114433\n",
       "min        0.000000\n",
       "25%        0.021164\n",
       "50%        0.042134\n",
       "75%        0.076801\n",
       "max        2.000000\n",
       "dtype: float64"
      ]
     },
     "execution_count": 27,
     "metadata": {},
     "output_type": "execute_result"
    }
   ],
   "source": [
    "list_of_df[0][1].describe()\n"
   ]
  },
  {
   "cell_type": "code",
   "execution_count": 31,
   "id": "1117b176",
   "metadata": {},
   "outputs": [],
   "source": [
    "from sklearn.linear_model import LinearRegression\n",
    "# from sklearn.metrics import mean_squared_error\n",
    "from sklearn.model_selection import train_test_split\n",
    "from xgboost import XGBRegressor\n",
    "\n",
    "\n",
    "def pipeline(model, county, label):\n",
    "\n",
    "    def make_lags(ts, lags, lead_time=1):\n",
    "        return pd.concat(\n",
    "            {\n",
    "                f'y_lag_{i}': ts.shift(i)\n",
    "                for i in range(lead_time, lags + lead_time)\n",
    "            },\n",
    "            axis=1)\n",
    "\n",
    "    # 14 days of lag features\n",
    "    y= county[label]\n",
    "    y = y.copy()\n",
    "    X = make_lags(y, lags=50).fillna(0.0)\n",
    "\n",
    "    def make_multistep_target(ts, steps):\n",
    "        return pd.concat(\n",
    "            {f'y_step_{i + 1}': ts.shift(-i)\n",
    "            for i in range(steps)},\n",
    "            axis=1)\n",
    "\n",
    "    # Eight-week forecast\n",
    "    y = make_multistep_target(y, steps=30).dropna()\n",
    "\n",
    "    # Shifting has created indexes that don't match. Only keep times for\n",
    "    # which we have both targets and features.\n",
    "    y, X = y.align(X, join='inner', axis=0)\n",
    "\n",
    "    # Create splits\n",
    "    X_train, X_test, y_train, y_test = train_test_split(X, y, test_size=0.25, shuffle=False)\n",
    "    \n",
    "    model.fit(X_train, y_train)\n",
    "\n",
    "\n",
    "    return model"
   ]
  },
  {
   "cell_type": "code",
   "execution_count": 119,
   "id": "07f7e401",
   "metadata": {},
   "outputs": [],
   "source": [
    "list_of_features.append('y')"
   ]
  },
  {
   "cell_type": "code",
   "execution_count": 47,
   "id": "c0d636fb",
   "metadata": {},
   "outputs": [
    {
     "data": {
      "image/png": "[encoded data removed]",
      "text/plain": [
       "<Figure size 432x288 with 1 Axes>"
      ]
     },
     "metadata": {
      "needs_background": "light"
     },
     "output_type": "display_data"
    },
    {
     "name": "stdout",
     "output_type": "stream",
     "text": [
      "[[11.57818047 16.25282654 16.20158918 36.23532675 33.20515463 35.60648717\n",
      "  38.05427061 36.17448185 39.77793099 43.33123994 54.60611253 55.73044236\n",
      "  58.20418328 58.83895862 56.99192955 59.15003559 66.07791105 73.82762099\n",
      "  73.80670067 75.25993217 78.56640034 78.26353719 81.40523067 85.88508489\n",
      "  92.81270538 93.5950101  97.05216597 99.58873363 98.05417651 98.85462752]]\n"
     ]
    },
    {
     "data": {
      "image/png": "[encoded data removed]",
      "text/plain": [
       "<Figure size 432x288 with 1 Axes>"
      ]
     },
     "metadata": {
      "needs_background": "light"
     },
     "output_type": "display_data"
    },
    {
     "name": "stdout",
     "output_type": "stream",
     "text": [
      "[[0.11343407 0.36349293 0.40584477 0.22904903 0.30620373 0.48058608\n",
      "  0.27078893 0.50627105 0.6553879  0.30668153 0.67856191 0.59149574\n",
      "  0.47336314 0.68775448 0.60017999 0.44081465 0.73983503 0.6648479\n",
      "  0.71582407 0.74418645 0.70670766 0.60447907 0.97429415 0.78149759\n",
      "  0.9138134  0.87228272 0.68596571 1.08221208 1.06886864 0.95194016]]\n"
     ]
    },
    {
     "data": {
      "image/png": "[encoded data removed]",
      "text/plain": [
       "<Figure size 432x288 with 1 Axes>"
      ]
     },
     "metadata": {
      "needs_background": "light"
     },
     "output_type": "display_data"
    },
    {
     "name": "stdout",
     "output_type": "stream",
     "text": [
      "[[ 244.44428843  332.98150504  396.24877091  457.72778432  483.94837297\n",
      "   543.45178064  451.44114437  528.88351117  585.92182531  640.21309883\n",
      "   679.81275797  723.94495433  752.15499326  699.58249905  732.07287276\n",
      "   843.24912889  875.13696689  906.45537249  985.42215341 1020.43293532\n",
      "   956.60140999 1004.92959592 1051.35476833 1123.33098622 1146.59125227\n",
      "  1150.05961463 1208.74201762 1123.74822013 1173.92041123 1227.20963454]]\n"
     ]
    }
   ],
   "source": [
    "dict_models=dict()\n",
    "def get_data(n, feat, past_values):\n",
    "        re = list_of_df[n][1][feat]\n",
    "        values=list(re)\n",
    "        X = []\n",
    "        y = []\n",
    "        for i in range(len(values)-past_values):\n",
    "            X.append(values[i:i+past_values])\n",
    "            y.append(values[i+past_values])\n",
    "        X = np.array(X)\n",
    "        y = np.array(y)\n",
    "        return X, y\n",
    "for feat in list_of_features:\n",
    "    model = LinearRegression()\n",
    "    for i in range(len(list_of_df)//9):\n",
    "        model = pipeline(model, list_of_df[i][1], feat)\n",
    "    dict_models[feat]=model\n",
    "\n",
    "    past_values = 50\n",
    "    X, y = get_data(100, feat, past_values)\n",
    "    # X, y = X[:-220], y[:-220]\n",
    "\n",
    "    plt.plot(y[-100:])\n",
    "\n",
    "    shift = 0\n",
    "    x_axis_future = np.arange(100-30*shift, 100-30*(shift-1))\n",
    "    if shift: y_future = model.predict(X[-1-shift:-shift])\n",
    "    else: y_future = model.predict(X[-1-shift:])\n",
    "    plt.plot(x_axis_future, y_future[0])\n",
    "    if shift == 0: y = np.append(y, y_future)\n",
    "    plt.title(feat)\n",
    "    plt.show()\n",
    "    print(y_future[:20])"
   ]
  },
  {
   "cell_type": "code",
   "execution_count": 48,
   "id": "2607ea9e",
   "metadata": {},
   "outputs": [],
   "source": [
    "for name,mod in dict_models.items():\n",
    "    with open('model_'+name,'wb') as f:\n",
    "        pickle.dump(mod,f)"
   ]
  },
  {
   "cell_type": "code",
   "execution_count": 50,
   "id": "227f5677",
   "metadata": {},
   "outputs": [
    {
     "name": "stdout",
     "output_type": "stream",
     "text": [
      "[[23. 18. 28. 15. 14. 11. 22. 34. 23. 29. 27. 22. 25. 15. 33. 32. 22. 33.\n",
      "  15. 15. 26. 22. 27. 18. 19. 19. 21. 11. 15. 25. 24. 23. 11. 20.  9. 15.\n",
      "  20. 15. 27. 12.  7. 10. 20. 11. 12. 13. 13.  5. 12. 14.]]\n"
     ]
    }
   ],
   "source": [
    "X, y = get_data(100, \"Cases\", 50)\n",
    "print(X[-1:])"
   ]
  },
  {
   "cell_type": "code",
   "execution_count": 51,
   "id": "01654682",
   "metadata": {},
   "outputs": [
    {
     "name": "stdout",
     "output_type": "stream",
     "text": [
      "[[11.57818047 16.25282654 16.20158918 36.23532675 33.20515463 35.60648717\n",
      "  38.05427061 36.17448185 39.77793099 43.33123994 54.60611253 55.73044236\n",
      "  58.20418328 58.83895862 56.99192955 59.15003559 66.07791105 73.82762099\n",
      "  73.80670067 75.25993217 78.56640034 78.26353719 81.40523067 85.88508489\n",
      "  92.81270538 93.5950101  97.05216597 99.58873363 98.05417651 98.85462752]]\n"
     ]
    }
   ],
   "source": [
    "with open(\"model_Cases\",'rb') as f:\n",
    "    model_test = pickle.load(f)\n",
    "y_future = model_test.predict(X[-1:])\n",
    "print(y_future)"
   ]
  },
  {
   "cell_type": "code",
   "execution_count": null,
   "id": "3e5adacd",
   "metadata": {},
   "outputs": [],
   "source": []
  }
 ],
 "metadata": {
  "kernelspec": {
   "display_name": "Python 3.9.12 ('base')",
   "language": "python",
   "name": "python3"
  },
  "language_info": {
   "codemirror_mode": {
    "name": "ipython",
    "version": 3
   },
   "file_extension": ".py",
   "mimetype": "text/x-python",
   "name": "python",
   "nbconvert_exporter": "python",
   "pygments_lexer": "ipython3",
   "version": "3.9.12"
  },
  "vscode": {
   "interpreter": {
    "hash": "8783525e4e2a2c0ad67d0efdba4477c5d437cf80944ffce1e96011f3b77e4a61"
   }
  }
 },
 "nbformat": 4,
 "nbformat_minor": 5
}
