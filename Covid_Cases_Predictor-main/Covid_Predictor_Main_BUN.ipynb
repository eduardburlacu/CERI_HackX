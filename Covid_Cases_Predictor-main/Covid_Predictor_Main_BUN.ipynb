{
 "cells": [
  {
   "cell_type": "markdown",
   "id": "ca57342a",
   "metadata": {},
   "source": [
    "# 2020 Covid dataset analysed\n"
   ]
  },
  {
   "cell_type": "markdown",
   "id": "5eb15148",
   "metadata": {},
   "source": [
    "## Part 1 - Feature Engineering "
   ]
  },
  {
   "cell_type": "code",
   "execution_count": 102,
   "id": "f25a8b6b",
   "metadata": {},
   "outputs": [],
   "source": [
    "import pandas as pd\n",
    "import os\n",
    "import numpy as np\n",
    "import tensorflow as tf\n",
    "from datetime import datetime\n",
    "from tensorflow import keras\n",
    "import matplotlib.pyplot as plt"
   ]
  },
  {
   "cell_type": "code",
   "execution_count": 103,
   "id": "8b4c50e0",
   "metadata": {},
   "outputs": [],
   "source": [
    "list_of_df= []\n",
    "for (root, dirs, files) in os.walk(os.path.join(os.getcwd(), \"county_data\")):\n",
    "    for file in files:\n",
    "        if file[-4:] == \".csv\": \n",
    "            df = pd.read_csv(os.path.join(root, file))\n",
    "            df = df.dropna()\n",
    "            if len(df):\n",
    "                name = df[\"areaName\"][5]\n",
    "                df = df[::-1].reset_index(drop=True)\n",
    "                y_values = pd.Series(df[\"newCasesBySpecimenDate\"]/df[\"newVirusTestsBySpecimenDate\"])\n",
    "                for i in range(len(df)):\n",
    "                        if df[\"newVirusTestsBySpecimenDate\"][i]==0:\n",
    "                            y_values.loc[i]=0\n",
    "                list_of_df.append((name,y_values))"
   ]
  },
  {
   "cell_type": "code",
   "execution_count": 109,
   "id": "1117b176",
   "metadata": {},
   "outputs": [],
   "source": [
    "from warnings import simplefilter\n",
    "import seaborn as sns\n",
    "from sklearn.linear_model import LinearRegression\n",
    "from sklearn.model_selection import train_test_split\n",
    "from sklearn.metrics import mean_squared_error\n",
    "\n",
    "def pipeline(model, county, verbose=0):\n",
    "\n",
    "    def make_lags(ts, lags, lead_time=1):\n",
    "        return pd.concat(\n",
    "            {\n",
    "                f'y_lag_{i}': ts.shift(i)\n",
    "                for i in range(lead_time, lags + lead_time)\n",
    "            },\n",
    "            axis=1)\n",
    "\n",
    "    # 50 days of lag features\n",
    "    y = county.copy()*1000 # Scaling up the values in order to not get zero mse\n",
    "    X = make_lags(y, lags=50).fillna(0.0)\n",
    "\n",
    "    def make_multistep_target(ts, steps):\n",
    "        return pd.concat(\n",
    "            {f'y_step_{i + 1}': ts.shift(-i)\n",
    "            for i in range(steps)},\n",
    "            axis=1)\n",
    "\n",
    "    # 30 days forecast\n",
    "    y = make_multistep_target(y, steps=30).dropna()\n",
    "\n",
    "    # Shifting has created indexes that don't match. Only keep times for\n",
    "    # which we have both targets and features.\n",
    "    y, X = y.align(X, join='inner', axis=0)\n",
    "\n",
    "    # Create splits\n",
    "    X_train, X_test, y_train, y_test = train_test_split(X, y, test_size=0.2, shuffle=False)\n",
    "    \n",
    "    model.fit(X_train, y_train)\n",
    "\n",
    "    y_fit = pd.DataFrame(model.predict(X_train), index=X_train.index, columns=y.columns)\n",
    "    y_pred = pd.DataFrame(model.predict(X_test), index=X_test.index, columns=y.columns)\n",
    "\n",
    "    if verbose:\n",
    "        train_mse = mean_squared_error(y_train, y_fit, squared=False)\n",
    "        test_mse = mean_squared_error(y_test, y_pred, squared=False)\n",
    "        print((f\"Train MSE: {train_mse:.2f}\\n\" f\"Test MSE: {test_mse:.2f}\"))\n",
    "\n",
    "    return model"
   ]
  },
  {
   "cell_type": "code",
   "execution_count": null,
   "id": "c0d636fb",
   "metadata": {},
   "outputs": [],
   "source": [
    "model = LinearRegression()\n",
    "for i in range(len(list_of_df)):\n",
    "    model = pipeline(model, list_of_df[i][1])\n",
    "\n",
    "past_values = 50\n",
    "def get_data(n):\n",
    "    values=list(list_of_df[n][1])\n",
    "    X = []\n",
    "    y = []\n",
    "    for i in range(len(values)-past_values):\n",
    "        X.append(values[i:i+past_values])\n",
    "        y.append(values[i+past_values])\n",
    "    X = np.array(X)\n",
    "    y = np.array(y)\n",
    "    return X, y"
   ]
  },
  {
   "cell_type": "code",
   "execution_count": 136,
   "id": "a1bf1725",
   "metadata": {},
   "outputs": [
    {
     "data": {
      "image/png": "[encoded data removed]",
      "text/plain": [
       "<Figure size 432x288 with 1 Axes>"
      ]
     },
     "metadata": {
      "needs_background": "light"
     },
     "output_type": "display_data"
    }
   ],
   "source": [
    "X, y = get_data(106)\n",
    "# X = X[:-50]\n",
    "# y = y[:-50]\n",
    "plt.plot(y[-400:])\n",
    "\n",
    "shift = 0\n",
    "\n",
    "x_axis_future = np.arange(400-30*shift, 400-30*(shift-1))\n",
    "if shift: y_future = model.predict(X[-1-shift:-shift]*1000)/1000\n",
    "else: y_future = model.predict(X[-1:]*1000)/1000\n",
    "plt.plot(x_axis_future, y_future[0])\n",
    "if shift == 0: y = np.append(y, y_future)"
   ]
  },
  {
   "cell_type": "code",
   "execution_count": 138,
   "id": "a5978558",
   "metadata": {},
   "outputs": [],
   "source": [
    "import pickle\n",
    "with open(\"model\", 'wb') as f:\n",
    "    pickle.dump(model, f)"
   ]
  },
  {
   "cell_type": "code",
   "execution_count": null,
   "id": "52e6364f",
   "metadata": {},
   "outputs": [],
   "source": []
  }
 ],
 "metadata": {
  "kernelspec": {
   "display_name": "Python 3.8.3 ('base')",
   "language": "python",
   "name": "python3"
  },
  "language_info": {
   "codemirror_mode": {
    "name": "ipython",
    "version": 3
   },
   "file_extension": ".py",
   "mimetype": "text/x-python",
   "name": "python",
   "nbconvert_exporter": "python",
   "pygments_lexer": "ipython3",
   "version": "3.8.3"
  },
  "vscode": {
   "interpreter": {
    "hash": "6f5583cf1d9466b5c27e75c89cc6b383bed5736d6b16c51c8074d8690011a952"
   }
  }
 },
 "nbformat": 4,
 "nbformat_minor": 5
}
