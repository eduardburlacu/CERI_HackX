{
 "cells": [
  {
   "cell_type": "code",
   "execution_count": 4,
   "metadata": {},
   "outputs": [
    {
     "ename": "SyntaxError",
     "evalue": "invalid syntax (2248535090.py, line 52)",
     "output_type": "error",
     "traceback": [
      "\u001b[1;36m  Input \u001b[1;32mIn [4]\u001b[1;36m\u001b[0m\n\u001b[1;33m    X_train, X_test, y_train, y_test = train_test_split(X, y, test_size=0.25, shuffle=False)\u001b[0m\n\u001b[1;37m    ^\u001b[0m\n\u001b[1;31mSyntaxError\u001b[0m\u001b[1;31m:\u001b[0m invalid syntax\n"
     ]
    }
   ],
   "source": [
    "\n",
    "from warnings import simplefilter\n",
    "import matplotlib.pyplot as plt\n",
    "import numpy as np\n",
    "import pandas as pd\n",
    "import seaborn as sns\n",
    "from sklearn.linear_model import LinearRegression\n",
    "from sklearn.metrics import mean_squared_error\n",
    "from sklearn.model_selection import train_test_split\n",
    "from xgboost import XGBRegressor\n",
    "\n",
    "\n",
    "def pipeline(flu_trends):\n",
    "    def plot_multistep(y, every=1, ax=None, palette_kwargs=None):\n",
    "        palette_kwargs_ = dict(palette='husl', n_colors=16, desat=None)\n",
    "        if palette_kwargs is not None:\n",
    "            palette_kwargs_.update(palette_kwargs)\n",
    "        palette = sns.color_palette(**palette_kwargs_)\n",
    "        if ax is None:\n",
    "            fig, ax = plt.subplots()\n",
    "        ax.set_prop_cycle(plt.cycler('color', palette))\n",
    "        for date, preds in y[::every].iterrows():\n",
    "            preds.index = pd.period_range(start=date, periods=len(preds))\n",
    "            preds.plot(ax=ax)\n",
    "        return ax\n",
    "\n",
    "    def make_lags(ts, lags, lead_time=1):\n",
    "        return pd.concat(\n",
    "            {\n",
    "                f'y_lag_{i}': ts.shift(i)\n",
    "                for i in range(lead_time, lags + lead_time)\n",
    "            },\n",
    "            axis=1)\n",
    "\n",
    "    # 14 days of lag features\n",
    "    y = flu_trends.y.copy()\n",
    "    X = make_lags(y, lags=14).fillna(0.0)\n",
    "\n",
    "    def make_multistep_target(ts, steps):\n",
    "        return pd.concat(\n",
    "            {f'y_step_{i + 1}': ts.shift(-i)\n",
    "            for i in range(steps)},\n",
    "            axis=1)\n",
    "\n",
    "    # Eight-week forecast\n",
    "    y = make_multistep_target(y, steps=8).dropna()\n",
    "\n",
    "    # Shifting has created indexes that don't match. Only keep times for\n",
    "    # which we have both targets and features.\n",
    "    y, X = y.align(X, join='inner', axis=0\n",
    "\n",
    "    # Create splits\n",
    "    X_train, X_test, y_train, y_test = train_test_split(X, y, test_size=0.25, shuffle=False)\n",
    "\n",
    "    model = LinearRegression()\n",
    "    model.fit(X_train, y_train)\n",
    "\n",
    "    y_fit = pd.DataFrame(model.predict(X_train), index=X_train.index, columns=y.columns)\n",
    "    y_pred = pd.DataFrame(model.predict(X_test), index=X_test.index, columns=y.columns)\n",
    "\n",
    "    train_rmse = mean_squared_error(y_train, y_fit, squared=False)\n",
    "    test_rmse = mean_squared_error(y_test, y_pred, squared=False)\n",
    "    print((f\"Train RMSE: {train_rmse:.2f}\\n\" f\"Test RMSE: {test_rmse:.2f}\"))\n",
    "\n",
    "    palette = dict(palette='husl', n_colors=64)\n",
    "    fig, (ax1, ax2) = plt.subplots(2, 1, figsize=(11, 6))\n",
    "    ax1 = flu_trends.FluVisits[y_fit.index].plot(**plot_params, ax=ax1)\n",
    "    ax1 = plot_multistep(y_fit, ax=ax1, palette_kwargs=palette)\n",
    "    _ = ax1.legend(['FluVisits (train)', 'Forecast'])\n",
    "    ax2 = flu_trends.FluVisits[y_pred.index].plot(**plot_params, ax=ax2)\n",
    "    ax2 = plot_multistep(y_pred, ax=ax2, palette_kwargs=palette)\n",
    "    _ = ax2.legend(['FluVisits (test)', 'Forecast'])"
   ]
  }
 ],
 "metadata": {
  "kernelspec": {
   "display_name": "Python 3.9.12 ('base')",
   "language": "python",
   "name": "python3"
  },
  "language_info": {
   "codemirror_mode": {
    "name": "ipython",
    "version": 3
   },
   "file_extension": ".py",
   "mimetype": "text/x-python",
   "name": "python",
   "nbconvert_exporter": "python",
   "pygments_lexer": "ipython3",
   "version": "3.9.12"
  },
  "orig_nbformat": 4,
  "vscode": {
   "interpreter": {
    "hash": "8783525e4e2a2c0ad67d0efdba4477c5d437cf80944ffce1e96011f3b77e4a61"
   }
  }
 },
 "nbformat": 4,
 "nbformat_minor": 2
}
